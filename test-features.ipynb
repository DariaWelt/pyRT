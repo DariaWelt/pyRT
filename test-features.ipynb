{
 "cells": [
  {
   "cell_type": "markdown",
   "metadata": {},
   "source": [
    "# Welcome to PyRT - The Python Raytracer\n",
    "\n",
    "The goal of PyRT is teaching computer graphics fundamentals and not to have a fast raytracer.\n",
    "One part of pyrt is the virtual framebuffer where you can draw Pixels using standard algorithms such as Bresenham's line drawing algorithm.\n",
    "\n",
    "From Version 0.5.0 an additional goal is better Jupyter integration, this is now done in RGBImage."
   ]
  },
  {
   "cell_type": "markdown",
   "metadata": {},
   "source": [
    "### 1. Virtual Framebuffer for Pixel Operations\n"
   ]
  },
  {
   "cell_type": "code",
   "execution_count": null,
   "metadata": {},
   "outputs": [],
   "source": [
    "from pyrt.renderer import RGBImage\n",
    "from pyrt.math import Vec2, Vec3\n",
    "from pyrt.utils import display\n",
    "import numpy as np\n",
    "import random"
   ]
  },
  {
   "cell_type": "code",
   "execution_count": null,
   "metadata": {},
   "outputs": [],
   "source": [
    "# Create a virtual RGB framebuffer\n",
    "\n",
    "w = 320\n",
    "h = 240\n",
    "image = RGBImage(w, h)"
   ]
  },
  {
   "cell_type": "code",
   "execution_count": null,
   "metadata": {},
   "outputs": [],
   "source": [
    "# drawPoints in virtual framebuffer.\n",
    "# Positions are Vec2 (pixel coord) and Colors are Vec3 (RGB components in range 0..1)\n",
    "\n",
    "for i in range(5000):\n",
    "    position = Vec2(random.randint(0, w - 1), random.randint(0, h - 1))\n",
    "    color = Vec3(random.uniform(0, 1), random.uniform(0, 1), random.uniform(0, 1))\n",
    "   \n",
    "    image.drawPoint(position, color)"
   ]
  },
  {
   "cell_type": "code",
   "execution_count": null,
   "metadata": {},
   "outputs": [],
   "source": [
    "image"
   ]
  },
  {
   "cell_type": "markdown",
   "metadata": {},
   "source": [
    "##### Using updatable display [experimental]\n",
    "\n",
    "This only works with PyRT Version 0.5.0 and higher.\n",
    "It is recommended to undock the framebuffer"
   ]
  },
  {
   "cell_type": "code",
   "execution_count": null,
   "metadata": {},
   "outputs": [],
   "source": [
    "w = 320\n",
    "h = 240\n",
    "image2 = RGBImage(w, h)"
   ]
  },
  {
   "cell_type": "code",
   "execution_count": null,
   "metadata": {},
   "outputs": [],
   "source": [
    "for i in range(5000):\n",
    "    position = Vec2(random.randint(0, w - 1), random.randint(0, h - 1))\n",
    "    color = Vec3(random.uniform(0, 1), random.uniform(0, 1), random.uniform(0, 1))\n",
    "   \n",
    "    image2.drawPoint(position, color, 1)"
   ]
  },
  {
   "cell_type": "code",
   "execution_count": null,
   "metadata": {},
   "outputs": [],
   "source": [
    "image2.framebuffer()"
   ]
  },
  {
   "cell_type": "code",
   "execution_count": null,
   "metadata": {},
   "outputs": [],
   "source": [
    "for i in range(200):\n",
    "    position = Vec2(random.randint(0, w - 1), random.randint(0, h - 1))\n",
    "    color = Vec3(random.uniform(0, 1), random.uniform(0, 1), random.uniform(0, 1))\n",
    "   \n",
    "    image2.drawPoint(position, color, 2)\n",
    "    image2.update()"
   ]
  },
  {
   "cell_type": "code",
   "execution_count": null,
   "metadata": {},
   "outputs": [],
   "source": [
    "for i in range(200):\n",
    "    pos1 = Vec2(random.randint(0, w - 1), random.randint(0, h - 1))\n",
    "    pos2 = Vec2(random.randint(0, w - 1), random.randint(0, h - 1))\n",
    "    color = Vec3(random.uniform(0, 1), random.uniform(0, 1), random.uniform(0, 1))\n",
    "   \n",
    "    image2.drawLine(pos1, pos2, color, 2)\n",
    "    image2.update()"
   ]
  },
  {
   "cell_type": "code",
   "execution_count": null,
   "metadata": {},
   "outputs": [],
   "source": []
  }
 ],
 "metadata": {
  "kernelspec": {
   "display_name": "Graphics",
   "language": "python",
   "name": "graphics"
  },
  "language_info": {
   "codemirror_mode": {
    "name": "ipython",
    "version": 3
   },
   "file_extension": ".py",
   "mimetype": "text/x-python",
   "name": "python",
   "nbconvert_exporter": "python",
   "pygments_lexer": "ipython3",
   "version": "3.6.10"
  }
 },
 "nbformat": 4,
 "nbformat_minor": 4
}
