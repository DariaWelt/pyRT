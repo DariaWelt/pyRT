{
 "cells": [
  {
   "cell_type": "markdown",
   "metadata": {},
   "source": [
    "# Welcome to pyRT - The Python Raytracer \n",
    "\n",
    "## https://github.com/martinchristen/pyRT\n",
    "\n",
    "\n",
    "The goal of pyRT is teaching computer graphics.\n",
    "One part of pyrt is the virtual framebuffer where you can draw Pixels using standard algorithms such as Bresenham's line drawing algorithm.\n",
    "\n",
    "From Version 0.5.0 an additional goal is better Jupyter integration, this is now done in RGBImage.\n",
    "\n",
    "Dependencies:\n",
    "This notebook requires pyrt, pillow, numpy, and numba\n"
   ]
  },
  {
   "cell_type": "markdown",
   "metadata": {},
   "source": [
    "### 1. Virtual Framebuffer for Pixel Operations\n"
   ]
  },
  {
   "cell_type": "code",
   "execution_count": null,
   "metadata": {},
   "outputs": [],
   "source": [
    "from pyrt.renderer import RGBImage\n",
    "from pyrt.math import Vec2, Vec3\n",
    "import random"
   ]
  },
  {
   "cell_type": "markdown",
   "metadata": {},
   "source": [
    "#### 1.2 Animated Virtual Framebuffer in Jupyter\n"
   ]
  },
  {
   "cell_type": "code",
   "execution_count": null,
   "metadata": {},
   "outputs": [],
   "source": [
    "w = 320\n",
    "h = 240\n",
    "image = RGBImage(w, h)\n",
    "image.clear(Vec3(0.0,0.0,0.4))"
   ]
  },
  {
   "cell_type": "code",
   "execution_count": null,
   "metadata": {},
   "outputs": [],
   "source": [
    "for i in range(5000):\n",
    "    position = Vec2(random.randint(0, w - 1), random.randint(0, h - 1))\n",
    "    color = Vec3(random.uniform(0, 1), random.uniform(0, 1), random.uniform(0, 1))\n",
    "   \n",
    "    image.drawPoint(position, color, 1)"
   ]
  },
  {
   "cell_type": "code",
   "execution_count": null,
   "metadata": {},
   "outputs": [],
   "source": [
    "image.framebuffer()"
   ]
  },
  {
   "cell_type": "code",
   "execution_count": null,
   "metadata": {},
   "outputs": [],
   "source": [
    "for i in range(100):\n",
    "    pos1 = Vec2(random.randint(0, w - 1), random.randint(0, h - 1))\n",
    "    pos2 = Vec2(random.randint(0, w - 1), random.randint(0, h - 1))\n",
    "    color = Vec3(random.uniform(0, 1), random.uniform(0, 1), random.uniform(0, 1))\n",
    "   \n",
    "    image.drawLine(pos1, pos2, color, 2)\n",
    "    image.update(fps=30)"
   ]
  },
  {
   "cell_type": "markdown",
   "metadata": {},
   "source": [
    "#### 1.3 Loading Images"
   ]
  },
  {
   "cell_type": "code",
   "execution_count": null,
   "metadata": {},
   "outputs": [],
   "source": [
    "from pyrt.renderer import loadimage\n",
    "\n",
    "image2 = loadimage(\"data/worldmap/world600.jpg\")\n",
    "image2.framebuffer(\"world\")"
   ]
  },
  {
   "cell_type": "code",
   "execution_count": null,
   "metadata": {},
   "outputs": [],
   "source": [
    "image2.drawCircleFilled(Vec2(300,150), radius=10, color=Vec3(1,0,0), fillcolor=Vec3(1,1,0), size=1)\n",
    "image2.update(\"world\")"
   ]
  },
  {
   "cell_type": "code",
   "execution_count": null,
   "metadata": {},
   "outputs": [],
   "source": [
    "for i in range(100):\n",
    "    pos = Vec2(random.randint(0, image2.width - 1), random.randint(0, image2.height - 1))\n",
    "    radius = random.randint(2,20)\n",
    "    color = Vec3(random.uniform(0, 1), random.uniform(0, 1), random.uniform(0, 1))\n",
    "    fillcolor = Vec3(random.uniform(0, 1), random.uniform(0, 1), random.uniform(0, 1))\n",
    "   \n",
    "    image2.drawCircleFilled(pos, radius, color, fillcolor, 1)\n",
    "    image2.update(\"world\", fps=30)"
   ]
  },
  {
   "cell_type": "markdown",
   "metadata": {},
   "source": [
    "#### 1.4 Example: Display Recent Earthquakes on Map\n",
    "\n",
    "data from USGS: https://earthquake.usgs.gov/earthquakes/feed/v1.0/geojson.php"
   ]
  },
  {
   "cell_type": "code",
   "execution_count": null,
   "metadata": {},
   "outputs": [],
   "source": [
    "import requests\n",
    "import json\n",
    "from pyrt.renderer import RGBImage, loadimage\n",
    "from pyrt.math import Vec2, Vec3\n",
    "\n",
    "data = requests.get(\"https://earthquake.usgs.gov/earthquakes/feed/v1.0/summary/2.5_week.geojson\")\n",
    "with open(\"earthquakes.geojson\",\"wb\") as file:\n",
    "    file.write(data.content)"
   ]
  },
  {
   "cell_type": "code",
   "execution_count": null,
   "metadata": {},
   "outputs": [],
   "source": [
    "with open(\"earthquakes.geojson\") as json_file:\n",
    "    data = json.load(json_file)"
   ]
  },
  {
   "cell_type": "code",
   "execution_count": null,
   "metadata": {},
   "outputs": [],
   "source": [
    "image3 = loadimage(\"data/worldmap/world600.jpg\")\n",
    "\n",
    "for element in data[\"features\"]:\n",
    "    mag = element[\"properties\"][\"mag\"]\n",
    "    coord = element[\"geometry\"][\"coordinates\"]\n",
    "    x = int(image3.width*((coord[0] + 180) / 360))\n",
    "    y = int(image3.height*((coord[1] + 90) / 180))\n",
    "    if mag>4.5:\n",
    "        image3.drawCircleFilled(Vec2(x,y), int(mag), Vec3(0,0,0), Vec3(1,0,0), 1)\n",
    "image3"
   ]
  },
  {
   "cell_type": "markdown",
   "metadata": {},
   "source": [
    "#### 1.5 Procedural Images"
   ]
  },
  {
   "cell_type": "code",
   "execution_count": null,
   "metadata": {},
   "outputs": [],
   "source": [
    "from numba import jit\n",
    "import numpy as np\n",
    "import math\n",
    "from pyrt.renderer import RGBImage, loadimage\n",
    "from pyrt.math import Vec2, Vec3\n",
    "from pyrt.math import clamp3, cross3, step\n",
    "from pyrt.math import SimplexNoise, TileableNoise\n",
    "from pyrt.math import mod"
   ]
  },
  {
   "cell_type": "code",
   "execution_count": null,
   "metadata": {},
   "outputs": [],
   "source": [
    "w = 256\n",
    "h = 256\n",
    "image = RGBImage(w, h)\n",
    "rgb = Vec3()\n",
    "noise = SimplexNoise()"
   ]
  },
  {
   "cell_type": "markdown",
   "metadata": {},
   "source": [
    "##### 1.5.1 Stripes and Checkerboard"
   ]
  },
  {
   "cell_type": "code",
   "execution_count": null,
   "metadata": {},
   "outputs": [],
   "source": [
    "for x in range(w):\n",
    "    for y in range(h):\n",
    "        xx = x/w # range [0,1[\n",
    "        yy = y/h # range [0,1[\n",
    "         \n",
    "        if mod(6.0*xx, 1.0) < 0.5:                # if 6.0*xx % 1.0 < 0.5:  \n",
    "            rgb[0] = rgb[1] = rgb[2] = 0\n",
    "        else:\n",
    "            rgb[0] = rgb[1] = rgb[2] = 255\n",
    "        \n",
    "        image.data[y][x][0] = rgb[0]\n",
    "        image.data[y][x][1] = rgb[1]\n",
    "        image.data[y][x][2] = rgb[2]\n",
    "image"
   ]
  },
  {
   "cell_type": "code",
   "execution_count": null,
   "metadata": {},
   "outputs": [],
   "source": [
    "for x in range(w):\n",
    "    for y in range(h):\n",
    "        xx = x/w # range [0,1[\n",
    "        yy = y/h # range [0,1[\n",
    "         \n",
    "        if mod(8.0*yy, 1.0) < 0.5:                # if 8.0*yy % 1.0 < 0.5:  \n",
    "            rgb[0] = rgb[1] = rgb[2] = 0\n",
    "        else:\n",
    "            rgb[0] = rgb[1] = rgb[2] = 255\n",
    "        \n",
    "        image.data[y][x][0] = rgb[0]\n",
    "        image.data[y][x][1] = rgb[1]\n",
    "        image.data[y][x][2] = rgb[2]\n",
    "image"
   ]
  },
  {
   "cell_type": "code",
   "execution_count": null,
   "metadata": {},
   "outputs": [],
   "source": [
    "for x in range(w):\n",
    "    for y in range(h):\n",
    "        xx = x/w # range [0,1[\n",
    "        yy = y/h # range [0,1[\n",
    "         \n",
    "        if (mod(4.0*xx, 1.0) < 0.5) ^ (mod(4.0*yy, 1.0) < 0.5):\n",
    "            rgb[0] = rgb[1] = rgb[2] = 0\n",
    "        else:\n",
    "            rgb[0] = rgb[1] = rgb[2] = 255\n",
    "        \n",
    "        image.data[y][x][0] = rgb[0]\n",
    "        image.data[y][x][1] = rgb[1]\n",
    "        image.data[y][x][2] = rgb[2]\n",
    "image"
   ]
  },
  {
   "cell_type": "markdown",
   "metadata": {},
   "source": [
    "##### 1.5.2 Mandelbrot"
   ]
  },
  {
   "cell_type": "code",
   "execution_count": null,
   "metadata": {},
   "outputs": [],
   "source": [
    "def CreateMandelbrotImage(w=256, h=256, maxiteration=200):\n",
    "    image = RGBImage(w, h)\n",
    "    rgb = Vec3()\n",
    "\n",
    "    for x in range(w):\n",
    "        for y in range(h):\n",
    "            xx = 2*(x/w-0.5)-0.5\n",
    "            yy = 2*(y/h-0.5) \n",
    "\n",
    "            xpos = 0.0\n",
    "            ypos = 0.0\n",
    "            iteration = 0.0\n",
    "\n",
    "            while (xpos*xpos + ypos*ypos < 4) and (iteration < maxiteration):\n",
    "                xpos, ypos = xpos*xpos - ypos*ypos + xx, 2.0*xpos*ypos + yy\n",
    "                iteration += 1.0\n",
    "\n",
    "            rgb[0] = (iteration % 20.0) / 20.0\n",
    "            rgb[1] = (iteration % 10.0) / 10.0\n",
    "            rgb[2] = (iteration % 20.0) / 20.0\n",
    "            image.data[y][x][0] = int(255*rgb[0])\n",
    "            image.data[y][x][1] = int(255*rgb[1])\n",
    "            image.data[y][x][2] = int(255*rgb[2])\n",
    "    return image"
   ]
  },
  {
   "cell_type": "code",
   "execution_count": null,
   "metadata": {},
   "outputs": [],
   "source": [
    "%%time\n",
    "CreateMandelbrotImage(256,256,200)"
   ]
  },
  {
   "cell_type": "markdown",
   "metadata": {},
   "source": [
    "#### Using Numba to speed up:\n",
    "\n",
    "Please note that pyrt functions can't be used with numba at this time, we create an external numpy array for the framebuffer."
   ]
  },
  {
   "cell_type": "code",
   "execution_count": null,
   "metadata": {},
   "outputs": [],
   "source": [
    "@jit\n",
    "def CreateMandelbrotImageNumba(w=256, h=256, maxiteration=200):\n",
    "    imagedata = np.zeros((w, h, 3), dtype=np.uint8)\n",
    "    rgb = np.zeros(3, dtype=np.float_)\n",
    "\n",
    "    for x in range(w):\n",
    "        for y in range(h):\n",
    "            xx = 2*(x/w-0.5)-0.5\n",
    "            yy = 2*(y/h-0.5) \n",
    "\n",
    "            xpos = 0.0\n",
    "            ypos = 0.0\n",
    "            iteration = 0.0\n",
    "\n",
    "            while (xpos*xpos + ypos*ypos < 4) and (iteration < maxiteration):\n",
    "                xpos, ypos = xpos*xpos - ypos*ypos + xx, 2.0*xpos*ypos + yy\n",
    "                iteration += 1.0\n",
    "\n",
    "            rgb[0] = (iteration % 20.0) / 20.0\n",
    "            rgb[1] = (iteration % 10.0) / 10.0\n",
    "            rgb[2] = (iteration % 20.0) / 20.0\n",
    "            imagedata[y][x][0] = int(255*rgb[0])\n",
    "            imagedata[y][x][1] = int(255*rgb[1])\n",
    "            imagedata[y][x][2] = int(255*rgb[2])\n",
    "    return imagedata"
   ]
  },
  {
   "cell_type": "code",
   "execution_count": null,
   "metadata": {},
   "outputs": [],
   "source": [
    "%%time\n",
    "w = 256\n",
    "h = 256\n",
    "data = CreateMandelbrotImageNumba(w,h,200)\n",
    "image = RGBImage(w, h, init_memory=False)\n",
    "image.data = data\n",
    "image"
   ]
  },
  {
   "cell_type": "markdown",
   "metadata": {},
   "source": [
    "##### 1.5.3 Perlin Noise"
   ]
  },
  {
   "cell_type": "code",
   "execution_count": null,
   "metadata": {},
   "outputs": [],
   "source": [
    "for x in range(w):\n",
    "    for y in range(h):\n",
    "        xx = x/w\n",
    "        yy = y/h\n",
    "        n = noise.noise2(10*xx,20*yy)\n",
    "        \n",
    "        rgb[0] = 0\n",
    "        rgb[1] = n*n*256 \n",
    "        rgb[2] = abs(n*256)\n",
    "        \n",
    "        rgb = clamp3(rgb, Vec3(0,0,0), Vec3(255,255,255))\n",
    "        image.data[y][x][0] = int(rgb[0])\n",
    "        image.data[y][x][1] = int(rgb[1])\n",
    "        image.data[y][x][2] = int(rgb[2])\n",
    "image"
   ]
  },
  {
   "cell_type": "markdown",
   "metadata": {},
   "source": [
    "###### Perlin Noise 3D"
   ]
  },
  {
   "cell_type": "code",
   "execution_count": null,
   "metadata": {},
   "outputs": [],
   "source": [
    "z=100\n",
    "for x in range(w):\n",
    "    for y in range(h):\n",
    "        xx = x/w\n",
    "        yy = y/h\n",
    "        n = abs(noise.noise3(5*xx,5*yy,z))*256\n",
    "        \n",
    "        if n<=50:\n",
    "            rgb[0] = 60\n",
    "            rgb[1] = 0 \n",
    "            rgb[2] = 0\n",
    "        else:\n",
    "            rgb[0] = 0\n",
    "            rgb[1] = n \n",
    "            rgb[2] = n\n",
    "        \n",
    "        rgb = clamp3(rgb, Vec3(0,0,0), Vec3(255,255,255))\n",
    "        image.data[y][x][0] = int(rgb[0])\n",
    "        image.data[y][x][1] = int(rgb[1])\n",
    "        image.data[y][x][2] = int(rgb[2])\n",
    "image"
   ]
  },
  {
   "cell_type": "markdown",
   "metadata": {},
   "source": [
    "###### Cumulative Noise"
   ]
  },
  {
   "cell_type": "code",
   "execution_count": null,
   "metadata": {},
   "outputs": [],
   "source": [
    "for x in range(w):\n",
    "    for y in range(h):\n",
    "        xx = x/w\n",
    "        yy = y/h\n",
    "        n = abs(noise.noise2(3*xx*xx,2*yy*yy))*256\n",
    "        q = abs(noise.noise2(12*xx,12*yy))*256\n",
    "        \n",
    "        rgb[0] = n\n",
    "        rgb[1] = q \n",
    "        rgb[2] = n\n",
    "        \n",
    "        rgb = clamp3(rgb, Vec3(0,0,0), Vec3(255,255,255))\n",
    "        image.data[y][x][0] = int(rgb[0])\n",
    "        image.data[y][x][1] = int(rgb[1])\n",
    "        image.data[y][x][2] = int(rgb[2])\n",
    "\n",
    "image\n"
   ]
  },
  {
   "cell_type": "code",
   "execution_count": 6,
   "metadata": {},
   "outputs": [],
   "source": [
    "from pyrt.scene import Scene\n",
    "from pyrt.light import PointLight\n",
    "from pyrt.geometry import Vertex, Triangle, Sphere\n",
    "from pyrt.camera import PerspectiveCamera\n",
    "from pyrt.material import PhongMaterial\n",
    "from pyrt.renderer import SimpleRT, AOSimpleRT\n",
    "from pyrt.math import *\n",
    "\n",
    "w = 320\n",
    "h = 240\n",
    "\n",
    "camera = PerspectiveCamera(w, h, 60)\n",
    "camera.setView(Vec3(0,-10,10), Vec3(0,0,0), Vec3(0,0,1))\n",
    "\n",
    "# Create a scene\n",
    "scene = Scene()\n",
    "\n",
    "# Add a light to the scene\n",
    "scene.addLight(PointLight(Vec3(0,0,15)))\n",
    "\n",
    "floormaterial = PhongMaterial(color=Vec3(0.5,0.5,0.5))\n",
    "sphere0material = PhongMaterial(color=Vec3(1.,0.,0.), reflectivity=0.5)\n",
    "sphere1material = PhongMaterial(color=Vec3(0.,1.,0.), reflectivity=0.5)\n",
    "sphere2material = PhongMaterial(color=Vec3(0.,0.,1.), reflectivity=0.5)\n",
    "sphere3material = PhongMaterial(color=Vec3(1.,1.,0.), reflectivity=0.5)\n",
    "\n",
    "# Add \"floor\"\n",
    "A = Vertex(position=(-5.0, -5.0, 0.0))\n",
    "B = Vertex(position=( 5.0, -5.0, 0.0))\n",
    "C = Vertex(position=( 5.0,  5.0, 0.0))\n",
    "D = Vertex(position=(-5.0,  5.0, 0.0))\n",
    "\n",
    "scene.add(Triangle(A,B,C, material=floormaterial))\n",
    "scene.add(Triangle(A,C,D, material=floormaterial))\n",
    "\n",
    "# Add 4 spheres\n",
    "scene.add(Sphere(center=Vec3(-2.5,-2.5,1.75), radius=1.75, material=sphere0material))\n",
    "scene.add(Sphere(center=Vec3( 2.5,-2.5,1.75), radius=1.75, material=sphere1material))\n",
    "scene.add(Sphere(center=Vec3( 2.5, 2.5,1.75), radius=1.75, material=sphere2material))\n",
    "scene.add(Sphere(center=Vec3(-2.5, 2.5,1.75), radius=1.75, material=sphere3material))\n",
    "\n",
    "# Set the camera\n",
    "scene.setCamera(camera)"
   ]
  },
  {
   "cell_type": "code",
   "execution_count": 8,
   "metadata": {},
   "outputs": [
    {
     "name": "stdout",
     "output_type": "stream",
     "text": [
      "# Creating Renderer: Simple Raytracer\n",
      "# RENDER STATISTICS###############################\n",
      "TIME FOR RENDERING: 4.649126052856445s\n",
      "NUMBER OF PRIMARY RAYS: 76800\n",
      "NUMBER OF SECONDARY RAYS: 0\n",
      "NUMBER OF SHADOW RAYS: 0\n",
      "RAYS/s: 16519.233749924613\n",
      "##################################################\n"
     ]
    },
    {
     "data": {
      "text/html": [
       "<img src=\"data:image/png;base64,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\"></img>"
      ],
      "text/plain": [
       "<pyrt.renderer.rgbimage.RGBImage at 0x7fab642d3520>"
      ]
     },
     "metadata": {},
     "output_type": "display_data"
    },
    {
     "data": {
      "text/plain": [
       "320"
      ]
     },
     "metadata": {},
     "output_type": "display_data"
    },
    {
     "data": {
      "text/plain": [
       "240"
      ]
     },
     "metadata": {},
     "output_type": "display_data"
    },
    {
     "name": "stdout",
     "output_type": "stream",
     "text": [
      "# Creating Renderer: Simple Raytracer\n",
      "# RENDER STATISTICS###############################\n",
      "TIME FOR RENDERING: 51.34657549858093s\n",
      "NUMBER OF PRIMARY RAYS: 76800\n",
      "NUMBER OF SECONDARY RAYS: 0\n",
      "NUMBER OF SHADOW RAYS: 0\n",
      "RAYS/s: 1495.718054305735\n",
      "##################################################\n"
     ]
    },
    {
     "data": {
      "text/html": [
       "<img src=\"data:image/png;base64,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\"></img>"
      ],
      "text/plain": [
       "<pyrt.renderer.rgbimage.RGBImage at 0x7fab683d1a90>"
      ]
     },
     "metadata": {},
     "output_type": "display_data"
    },
    {
     "data": {
      "text/plain": [
       "320"
      ]
     },
     "metadata": {},
     "output_type": "display_data"
    },
    {
     "data": {
      "text/plain": [
       "240"
      ]
     },
     "metadata": {},
     "output_type": "display_data"
    }
   ],
   "source": [
    "engin = SimpleRT()\n",
    "display(engin.render(scene), w, h)\n",
    "\n",
    "ao_engin = AOSimpleRT()\n",
    "display(ao_engin.render(scene), w, h)"
   ]
  },
  {
   "cell_type": "code",
   "execution_count": null,
   "metadata": {},
   "outputs": [],
   "source": []
  }
 ],
 "metadata": {
  "interpreter": {
   "hash": "916dbcbb3f70747c44a77c7bcd40155683ae19c65e1c03b4aa3499c5328201f1"
  },
  "kernelspec": {
   "display_name": "Graphics",
   "language": "python",
   "name": "python3"
  },
  "language_info": {
   "codemirror_mode": {
    "name": "ipython",
    "version": 3
   },
   "file_extension": ".py",
   "mimetype": "text/x-python",
   "name": "python",
   "nbconvert_exporter": "python",
   "pygments_lexer": "ipython3",
   "version": "3.8.10"
  }
 },
 "nbformat": 4,
 "nbformat_minor": 4
}
