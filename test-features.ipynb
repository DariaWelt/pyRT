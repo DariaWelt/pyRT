{
 "cells": [
  {
   "cell_type": "markdown",
   "metadata": {},
   "source": [
    "# Welcome to pyRT - The Python Raytracer \n",
    "\n",
    "## https://github.com/martinchristen/pyRT\n",
    "\n",
    "\n",
    "The goal of pyRT is teaching computer graphics.\n",
    "One part of pyrt is the virtual framebuffer where you can draw Pixels using standard algorithms such as Bresenham's line drawing algorithm.\n",
    "\n",
    "From Version 0.5.0 an additional goal is better Jupyter integration, this is now done in RGBImage."
   ]
  },
  {
   "cell_type": "markdown",
   "metadata": {},
   "source": [
    "### 1. Virtual Framebuffer for Pixel Operations\n"
   ]
  },
  {
   "cell_type": "code",
   "execution_count": null,
   "metadata": {},
   "outputs": [],
   "source": [
    "from pyrt.renderer import RGBImage\n",
    "from pyrt.math import Vec2, Vec3\n",
    "import numpy as np\n",
    "import random"
   ]
  },
  {
   "cell_type": "markdown",
   "metadata": {},
   "source": [
    "##### Animated Virtual Framebuffer in Jupyter\n"
   ]
  },
  {
   "cell_type": "code",
   "execution_count": null,
   "metadata": {},
   "outputs": [],
   "source": [
    "w = 320\n",
    "h = 240\n",
    "image = RGBImage(w, h)\n",
    "image.clear(Vec3(0.0,0.0,0.4))"
   ]
  },
  {
   "cell_type": "code",
   "execution_count": null,
   "metadata": {},
   "outputs": [],
   "source": [
    "for i in range(5000):\n",
    "    position = Vec2(random.randint(0, w - 1), random.randint(0, h - 1))\n",
    "    color = Vec3(random.uniform(0, 1), random.uniform(0, 1), random.uniform(0, 1))\n",
    "   \n",
    "    image.drawPoint(position, color, 1)"
   ]
  },
  {
   "cell_type": "code",
   "execution_count": null,
   "metadata": {},
   "outputs": [],
   "source": [
    "image.framebuffer()"
   ]
  },
  {
   "cell_type": "code",
   "execution_count": null,
   "metadata": {},
   "outputs": [],
   "source": [
    "for i in range(100):\n",
    "    pos1 = Vec2(random.randint(0, w - 1), random.randint(0, h - 1))\n",
    "    pos2 = Vec2(random.randint(0, w - 1), random.randint(0, h - 1))\n",
    "    color = Vec3(random.uniform(0, 1), random.uniform(0, 1), random.uniform(0, 1))\n",
    "   \n",
    "    image.drawLine(pos1, pos2, color, 2)\n",
    "    image.update(fps=30)"
   ]
  },
  {
   "cell_type": "markdown",
   "metadata": {},
   "source": [
    "##### Loading Image"
   ]
  },
  {
   "cell_type": "code",
   "execution_count": null,
   "metadata": {},
   "outputs": [],
   "source": [
    "from PIL import Image\n",
    "import numpy as np\n",
    "\n",
    "im = Image.open(\"data/worldmap/world600.jpg\")\n",
    "print(im.size[0], im.size[1])\n",
    "data = np.array(im.getdata()).reshape(im.size[1], im.size[0], 3)"
   ]
  },
  {
   "cell_type": "code",
   "execution_count": null,
   "metadata": {},
   "outputs": [],
   "source": [
    "from pyrt.renderer import loadimage\n",
    "\n",
    "image2 = loadimage(\"data/worldmap/world600.jpg\")\n",
    "image2.framebuffer(\"world\")"
   ]
  },
  {
   "cell_type": "code",
   "execution_count": null,
   "metadata": {},
   "outputs": [],
   "source": [
    "for i in range(100):\n",
    "    pos1 = Vec2(random.randint(0, image2.width - 1), random.randint(0, image2.height - 1))\n",
    "    pos2 = Vec2(random.randint(0, image2.width - 1), random.randint(0, image2.height - 1))\n",
    "    color = Vec3(random.uniform(0, 1), random.uniform(0, 1), random.uniform(0, 1))\n",
    "   \n",
    "    image2.drawLine(pos1, pos2, color, 2)\n",
    "    image2.update(\"world\", fps=30)"
   ]
  },
  {
   "cell_type": "code",
   "execution_count": null,
   "metadata": {},
   "outputs": [],
   "source": []
  }
 ],
 "metadata": {
  "kernelspec": {
   "display_name": "Graphics",
   "language": "python",
   "name": "graphics"
  },
  "language_info": {
   "codemirror_mode": {
    "name": "ipython",
    "version": 3
   },
   "file_extension": ".py",
   "mimetype": "text/x-python",
   "name": "python",
   "nbconvert_exporter": "python",
   "pygments_lexer": "ipython3",
   "version": "3.6.10"
  }
 },
 "nbformat": 4,
 "nbformat_minor": 4
}
